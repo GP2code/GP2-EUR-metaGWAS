{
  "cells": [
    {
      "cell_type": "markdown",
      "metadata": {
        "id": "4Ea9zYNE6Cou"
      },
      "source": [
        "# FUMA\n",
        " - **Project:** GP2 Parkinson's disease meta-GWAS on European, Ashkenazi Jewish, Finnish, and Icelandic individuals \n",
        " - **Versions:** R\n",
        " - **Last Updated:** January 2025\n",
        "\n",
        "### Notebook Overview\n",
        "xx\n",
        "\n",
        "### CHANGELOG\n",
        "* 06-MAR-2025: Notebook cleaned \n",
        "* 10-FEB-2025: Notebook started"
      ]
    },
    {
      "cell_type": "markdown",
      "metadata": {},
      "source": [
        "## Upload to FUMA\n",
        "Full summary statistics with rsIDs are needed "
      ]
    },
    {
      "cell_type": "code",
      "execution_count": null,
      "metadata": {
        "vscode": {
          "languageId": "r"
        }
      },
      "outputs": [],
      "source": [
        "library(data.table)\n",
        "library(tidyverse)\n",
        "fuma_fix <- fread('~/Downloads/LZ_GP2_REAL_FINAL.gz')\n",
        "fuma_fix2 <- fuma_fix[['CHR', 'BP', 'A1', 'A2', 'P', 'BETA']]\n",
        "fuma_fix[, P := 10^-neg_log_pvalue]\n",
        "\n",
        "fuma_fix <- fuma_fix[rsid!='.']\n",
        "\n",
        "fwrite(\n",
        "  fuma_fix[,c('rsid','ref','alt','beta','stderr_beta','P')],\n",
        "  '~/Downloads/FUMA_READY_GP2_REAL_FINAL.txt.gz',\n",
        "  sep = '\\t',\n",
        "  quote=F,\n",
        "  na='NA'\n",
        ")"
      ]
    },
    {
      "cell_type": "markdown",
      "metadata": {},
      "source": [
        "Upload to FUMA! https://fuma.ctglab.nl/snp2gene"
      ]
    },
    {
      "cell_type": "markdown",
      "metadata": {},
      "source": []
    }
  ],
  "metadata": {
    "colab": {
      "machine_shape": "hm",
      "provenance": [],
      "toc_visible": true
    },
    "kernelspec": {
      "display_name": "Python 3",
      "name": "python3"
    },
    "language_info": {
      "name": "python"
    }
  },
  "nbformat": 4,
  "nbformat_minor": 0
}
