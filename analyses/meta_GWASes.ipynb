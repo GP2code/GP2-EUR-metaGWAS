{
  "cells": [
    {
      "cell_type": "markdown",
      "metadata": {
        "id": "4Ea9zYNE6Cou"
      },
      "source": [
        "# meta-GWAS \n",
        " - **Project:** GP2 Parkinson's disease meta-GWAS on European, Ashkenazi Jewish, Finnish, and Icelandic individuals \n",
        " - **Versions:** Python/3.10\n",
        " - **Last Updated:** January 2025\n",
        "\n",
        "### Notebook Overview\n",
        "Different meta-analyses conducted using PLINK \n",
        "\n",
        "> Note: All code here were submitted as jobs, not running interactively\n",
        "\n",
        "### CHANGELOG\n",
        "* 06-MAR-2025: Notebook cleaned \n",
        "* 19-AUG-2024: Notebook started"
      ]
    },
    {
      "cell_type": "markdown",
      "metadata": {},
      "source": [
        "# All"
      ]
    },
    {
      "cell_type": "markdown",
      "metadata": {},
      "source": [
        "## ALL Case-control (no proxies!)"
      ]
    },
    {
      "cell_type": "code",
      "execution_count": null,
      "metadata": {
        "vscode": {
          "languageId": "shellscript"
        }
      },
      "outputs": [],
      "source": [
        "#!/bin/bash\n",
        "\n",
        "cd ${WORK_DIR}/METAS/\n",
        "\n",
        "module load plink/1.9\n",
        "\n",
        "\n",
        "plink --meta-analysis ${WORK_DIR}/GP2/POP_CONTROLS/GP2_EUR_CC_FOR_PLINK_MAF_AGE_POP_CONTROLS.txt \\\n",
        "${WORK_DIR}/IPDGC/IPDGC_COURAGE_UK_EUR_CC_FOR_PLINK_MAF.txt \\\n",
        "${WORK_DIR}/IPDGC/IPDGC_DUTCH_EUR_CC_FOR_PLINK_MAF.txt \\\n",
        "${WORK_DIR}/IPDGC/IPDGC_GERMANY_EUR_CC_FOR_PLINK_MAF.txt \\\n",
        "${WORK_DIR}/IPDGC/IPDGC_MCGILL_EUR_CC_FOR_PLINK_MAF.txt \\\n",
        "${WORK_DIR}/IPDGC/IPDGC_MF_EUR_CC_FOR_PLINK_MAF.txt \\\n",
        "${WORK_DIR}/IPDGC/IPDGC_NIA_EUR_CC_FOR_PLINK_MAF.txt \\\n",
        "${WORK_DIR}/IPDGC/IPDGC_OSLO_EUR_CC_FOR_PLINK_PD.txt \\\n",
        "${WORK_DIR}/IPDGC/IPDGC_SHULMAN_EUR_CC_FOR_PLINK_MAF.txt \\\n",
        "${WORK_DIR}/IPDGC/IPDGC_SPAIN3_EUR_CC_NO_AGE_COVAR_FOR_PLINK_MAF.txt \\\n",
        "${WORK_DIR}/IPDGC/IPDGC_TUBI_EUR_CC_FOR_PLINK_MAF.txt \\\n",
        "${WORK_DIR}/IPDGC/IPDGC_UK_GWAS_EUR_CC_FOR_PLINK_MAF.txt \\\n",
        "${WORK_DIR}/METAS/FIGS_META_EUR_MAF_FOR_PLINK_update.txt \\\n",
        "${WORK_DIR}/UKB/UKB_ALL/UKB_ALL_CC_FOR_PLINK_MAF \\\n",
        "${WORK_DIR}/GP2/UPDATED/GP2_AJ_CC_FOR_PLINK_MAF_update.txt \\\n",
        "${WORK_DIR}/FIGS/FIGS_AJ_CC_FOR_PLINK_MAF.txt \\\n",
        "${WORK_DIR}/FINNGEN_R10_PD/finngen_R11_G6_PARKINSON_FOR_PLINK \\\n",
        "${WORK_DIR}/IPDGC/IPDGC_FINLAND_FIN_CC_NO_AGE_FOR_PLINK.txt \\\n",
        "${WORK_DIR}/deCODE/deCODE_CC_FOR_PLINK_MAF_BETA_UPDATE.txt \\\n",
        "${WORK_DIR}/MVP_CC_FOR_PLINK_MAF_UPDATE.txt \\\n",
        "+ logscale weighted-z study qt \\\n",
        "--out ${WORK_DIR}/METAS/EUR_ALL_NO_PROXY_META_MAF_MVP"
      ]
    },
    {
      "cell_type": "markdown",
      "metadata": {},
      "source": [
        "## ALL - Case-control with Proxies "
      ]
    },
    {
      "cell_type": "code",
      "execution_count": null,
      "metadata": {
        "vscode": {
          "languageId": "shellscript"
        }
      },
      "outputs": [],
      "source": [
        "#!/bin/bash\n",
        "\n",
        "cd ${WORK_DIR}/METAS/\n",
        "\n",
        "module load plink/1.9\n",
        "\n",
        "\n",
        "plink --meta-analysis ${WORK_DIR}/GP2/POP_CONTROLS/GP2_EUR_CC_FOR_PLINK_MAF_AGE_POP_CONTROLS.txt \\\n",
        "${WORK_DIR}/IPDGC/IPDGC_COURAGE_UK_EUR_CC_FOR_PLINK_MAF.txt \\\n",
        "${WORK_DIR}/IPDGC/IPDGC_DUTCH_EUR_CC_FOR_PLINK_MAF.txt \\\n",
        "${WORK_DIR}/IPDGC/IPDGC_GERMANY_EUR_CC_FOR_PLINK_MAF.txt \\\n",
        "${WORK_DIR}/IPDGC/IPDGC_MCGILL_EUR_CC_FOR_PLINK_MAF.txt \\\n",
        "${WORK_DIR}/IPDGC/IPDGC_MF_EUR_CC_FOR_PLINK_MAF.txt \\\n",
        "${WORK_DIR}/IPDGC/IPDGC_NIA_EUR_CC_FOR_PLINK_MAF.txt \\\n",
        "${WORK_DIR}/IPDGC/IPDGC_OSLO_EUR_CC_FOR_PLINK_PD.txt \\\n",
        "${WORK_DIR}/IPDGC/IPDGC_SHULMAN_EUR_CC_FOR_PLINK_MAF.txt \\\n",
        "${WORK_DIR}/IPDGC/IPDGC_SPAIN3_EUR_CC_NO_AGE_COVAR_FOR_PLINK_MAF.txt \\\n",
        "${WORK_DIR}/IPDGC/IPDGC_TUBI_EUR_CC_FOR_PLINK_MAF.txt \\\n",
        "${WORK_DIR}/IPDGC/IPDGC_UK_GWAS_EUR_CC_FOR_PLINK_MAF.txt \\\n",
        "${WORK_DIR}/METAS/FIGS_META_EUR_MAF_FOR_PLINK.txt \\\n",
        "${WORK_DIR}/UKB/UKB_ALL/UKB_ALL_CC_FOR_PLINK_MAF \\\n",
        "${WORK_DIR}/GP2/UPDATED/GP2_AJ_CC_FOR_PLINK_MAF_update.txt \\\n",
        "${WORK_DIR}/FIGS/FIGS_AJ_CC_FOR_PLINK_MAF.txt \\\n",
        "${WORK_DIR}/FINNGEN_R10_PD/finngen_R11_G6_PARKINSON_FOR_PLINK \\\n",
        "${WORK_DIR}/IPDGC/IPDGC_FINLAND_FIN_CC_NO_AGE_FOR_PLINK.txt \\\n",
        "${WORK_DIR}/deCODE/deCODE_CC_FOR_PLINK_MAF.txt \\\n",
        "${WORK_DIR}/UKB/UKB_PROXY/UKB_PROXY_ADJUSTED_FOR_PLINK.txt \\\n",
        "+ logscale weighted-z study qt \\\n",
        "--out ${WORK_DIR}/METAS/EUR_ALL_WITH_PROXY_META_MAF\n"
      ]
    },
    {
      "cell_type": "markdown",
      "metadata": {},
      "source": [
        "## ALL - Case-control with Proxies and MVP "
      ]
    },
    {
      "cell_type": "code",
      "execution_count": null,
      "metadata": {
        "vscode": {
          "languageId": "shellscript"
        }
      },
      "outputs": [],
      "source": [
        "#!/bin/bash\n",
        "\n",
        "cd ${WORK_DIR}/METAS/\n",
        "\n",
        "module load plink/1.9\n",
        "\n",
        "\n",
        "plink --meta-analysis ${WORK_DIR}/GP2/POP_CONTROLS/GP2_EUR_CC_FOR_PLINK_MAF_AGE_POP_CONTROLS.txt \\\n",
        "${WORK_DIR}/IPDGC/IPDGC_COURAGE_UK_EUR_CC_FOR_PLINK_MAF.txt \\\n",
        "${WORK_DIR}/IPDGC/IPDGC_DUTCH_EUR_CC_FOR_PLINK_MAF.txt \\\n",
        "${WORK_DIR}/IPDGC/IPDGC_GERMANY_EUR_CC_FOR_PLINK_MAF.txt \\\n",
        "${WORK_DIR}/IPDGC/IPDGC_MCGILL_EUR_CC_FOR_PLINK_MAF.txt \\\n",
        "${WORK_DIR}/IPDGC/IPDGC_MF_EUR_CC_FOR_PLINK_MAF.txt \\\n",
        "${WORK_DIR}/IPDGC/IPDGC_NIA_EUR_CC_FOR_PLINK_MAF.txt \\\n",
        "${WORK_DIR}/IPDGC/IPDGC_OSLO_EUR_CC_FOR_PLINK_PD.txt \\\n",
        "${WORK_DIR}/IPDGC/IPDGC_SHULMAN_EUR_CC_FOR_PLINK_MAF.txt \\\n",
        "${WORK_DIR}/IPDGC/IPDGC_SPAIN3_EUR_CC_NO_AGE_COVAR_FOR_PLINK_MAF.txt \\\n",
        "${WORK_DIR}/IPDGC/IPDGC_TUBI_EUR_CC_FOR_PLINK_MAF.txt \\\n",
        "${WORK_DIR}/IPDGC/IPDGC_UK_GWAS_EUR_CC_FOR_PLINK_MAF.txt \\\n",
        "${WORK_DIR}/METAS/FIGS_META_EUR_MAF_FOR_PLINK_update.txt \\\n",
        "${WORK_DIR}/UKB/UKB_ALL/UKB_ALL_CC_FOR_PLINK_MAF \\\n",
        "${WORK_DIR}/GP2/UPDATED/GP2_AJ_CC_FOR_PLINK_MAF_update.txt \\\n",
        "${WORK_DIR}/FIGS/FIGS_AJ_CC_FOR_PLINK_MAF.txt \\\n",
        "${WORK_DIR}/FINNGEN_R10_PD/finngen_R11_G6_PARKINSON_FOR_PLINK \\\n",
        "${WORK_DIR}/IPDGC/IPDGC_FINLAND_FIN_CC_NO_AGE_FOR_PLINK.txt \\\n",
        "${WORK_DIR}/deCODE/deCODE_CC_FOR_PLINK_MAF_BETA_UPDATE.txt \\\n",
        "${WORK_DIR}/MVP_CC_FOR_PLINK_MAF_UPDATE.txt \\\n",
        "${WORK_DIR}/UKB/UKB_PROXY/UKB_PROXY_ADJUSTED_FOR_PLINK.txt \\\n",
        "+ logscale weighted-z study qt \\\n",
        "--out ${WORK_DIR}/METAS/EUR_ALL_WITH_PROXY_META_MAF_MVP_beta_fix_REAL_FINAL\n"
      ]
    },
    {
      "cell_type": "markdown",
      "metadata": {},
      "source": [
        "# ALL - Biobank ONLY with Proxies"
      ]
    },
    {
      "cell_type": "code",
      "execution_count": null,
      "metadata": {
        "vscode": {
          "languageId": "shellscript"
        }
      },
      "outputs": [],
      "source": [
        "#!/bin/bash\n",
        "\n",
        "cd ${WORK_DIR}/METAS/\n",
        "\n",
        "module load plink/1.9\n",
        "\n",
        "\n",
        "plink --meta-analysis ${WORK_DIR}/METAS/FIGS_META_EUR_MAF_FOR_PLINK_update.txt \\\n",
        "${WORK_DIR}/UKB/UKB_PROXY/UKB_PROXY_ADJUSTED_FOR_PLINK.txt \\\n",
        "${WORK_DIR}/UKB/UKB_ALL/UKB_ALL_CC_FOR_PLINK_MAF \\\n",
        "${WORK_DIR}/FIGS/FIGS_AJ_CC_FOR_PLINK_MAF.txt \\\n",
        "${WORK_DIR}/FINNGEN_R10_PD/finngen_R11_G6_PARKINSON_FOR_PLINK \\\n",
        "${WORK_DIR}/deCODE/deCODE_CC_FOR_PLINK_MAF_BETA_UPDATE.txt \\\n",
        "${WORK_DIR}/MVP_CC_FOR_PLINK_MAF_UPDATE.txt \\\n",
        "+ logscale weighted-z study qt \\\n",
        "--out ${WORK_DIR}/METAS/EUR_ALL_BIOBANK_META_MAF_UPDATE_REAL_FINAL\n"
      ]
    },
    {
      "cell_type": "markdown",
      "metadata": {},
      "source": [
        "# ALL - Biobank ONLY (no proxies!)"
      ]
    },
    {
      "cell_type": "code",
      "execution_count": null,
      "metadata": {
        "vscode": {
          "languageId": "shellscript"
        }
      },
      "outputs": [],
      "source": [
        "#!/bin/bash\n",
        "\n",
        "cd ${WORK_DIR}/METAS/\n",
        "\n",
        "module load plink/1.9\n",
        "\n",
        "plink --meta-analysis ${WORK_DIR}/FIGS/FIGS_AJ_CC_FOR_PLINK_MAF.txt \\\n",
        "${WORK_DIR}/METAS/FIGS_META_EUR_MAF_FOR_PLINK_update.txt \\\n",
        "${WORK_DIR}/UKB/UKB_ALL/UKB_ALL_CC_FOR_PLINK_MAF \\\n",
        "${WORK_DIR}/FINNGEN_R10_PD/finngen_R11_G6_PARKINSON_FOR_PLINK \\\n",
        "${WORK_DIR}/deCODE/deCODE_CC_FOR_PLINK_MAF_BETA_UPDATE.txt \\\n",
        "${WORK_DIR}/MVP_CC_FOR_PLINK_MAF_UPDATE.txt \\\n",
        "+ logscale weighted-z study qt \\\n",
        "--out ${WORK_DIR}/METAS/EUR_ALL_BIOBANK_NO_PROXY_META_MAF\n"
      ]
    },
    {
      "cell_type": "markdown",
      "metadata": {},
      "source": [
        "# Ashkenazi Jewish"
      ]
    },
    {
      "cell_type": "markdown",
      "metadata": {},
      "source": [
        "## AJ - GP2 / FIGS"
      ]
    },
    {
      "cell_type": "code",
      "execution_count": null,
      "metadata": {
        "vscode": {
          "languageId": "shellscript"
        }
      },
      "outputs": [],
      "source": [
        "#!/bin/bash\n",
        "\n",
        "cd ${WORK_DIR}/METAS/\n",
        "\n",
        "module load plink/1.9\n",
        "\n",
        "plink --meta-analysis ${WORK_DIR}/GP2/UPDATED/GP2_AJ_CC_FOR_PLINK_MAF_update.txt \\\n",
        "${WORK_DIR}/FIGS/FIGS_AJ_CC_FOR_PLINK_MAF.txt \\\n",
        "+ logscale weighted-z study qt \\\n",
        "--out ${WORK_DIR}/METAS/GP2_FIGS_META_AJ_MAF\n"
      ]
    },
    {
      "cell_type": "markdown",
      "metadata": {},
      "source": [
        "### Additional follow-up in AJ: Conditional "
      ]
    },
    {
      "cell_type": "code",
      "execution_count": null,
      "metadata": {
        "vscode": {
          "languageId": "shellscript"
        }
      },
      "outputs": [],
      "source": [
        "#!/bin/bash\n",
        "\n",
        "cd ${WORK_DIR}/METAS/\n",
        "\n",
        "module load plink/1.9\n",
        "\n",
        "plink --meta-analysis ${WORK_DIR}/GP2/UPDATED/GP2_AJ_CC_FOR_PLINK_CHR12_COND.txt \\\n",
        "${WORK_DIR}/FIGS/FIGS_AJ_CC_FOR_PLINK_CHR12_COND.txt \\\n",
        "+ logscale weighted-z study qt \\\n",
        "--out ${WORK_DIR}/METAS/AJ_CHR12_COND\n"
      ]
    },
    {
      "cell_type": "markdown",
      "metadata": {},
      "source": [
        "### Additional follow-up in AJ: Interaction "
      ]
    },
    {
      "cell_type": "code",
      "execution_count": null,
      "metadata": {
        "vscode": {
          "languageId": "shellscript"
        }
      },
      "outputs": [],
      "source": [
        "#!/bin/bash\n",
        "\n",
        "cd ${WORK_DIR}/METAS/\n",
        "\n",
        "module load plink/1.9\n",
        "\n",
        "plink --meta-analysis ${WORK_DIR}/GP2/UPDATED/GP2_AJ_CC_FOR_PLINK_CHR12_INT.txt \\\n",
        "${WORK_DIR}/FIGS/FIGS_AJ_CC_FOR_PLINK_CHR12_INT.txt \\\n",
        "+ logscale weighted-z study qt \\\n",
        "--out ${WORK_DIR}/METAS/AJ_CHR12_INT\n"
      ]
    },
    {
      "cell_type": "markdown",
      "metadata": {},
      "source": [
        "# Finnish"
      ]
    },
    {
      "cell_type": "markdown",
      "metadata": {},
      "source": [
        "## Finnish Meta-Analysis"
      ]
    },
    {
      "cell_type": "code",
      "execution_count": null,
      "metadata": {
        "vscode": {
          "languageId": "shellscript"
        }
      },
      "outputs": [],
      "source": [
        "#!/bin/bash\n",
        "\n",
        "cd ${WORK_DIR}/METAS/\n",
        "\n",
        "module load plink/1.9\n",
        "\n",
        "plink --meta-analysis ${WORK_DIR}/FINNGEN_R10_PD/finngen_R11_G6_PARKINSON_FOR_PLINK_MAF \\\n",
        "${WORK_DIR}/IPDGC/IPDGC_FINLAND_FIN_CC_NO_AGE_FOR_PLINK_MAF.txt \\\n",
        "+ logscale weighted-z study qt \\\n",
        "--out ${WORK_DIR}/METAS/FINNISH_META_FIN_MAF\n"
      ]
    },
    {
      "cell_type": "markdown",
      "metadata": {},
      "source": [
        "# European"
      ]
    },
    {
      "cell_type": "markdown",
      "metadata": {
        "id": "0JK_636Z6jB2"
      },
      "source": [
        "## IPDGC - EUR - Case/Control Meta-Analysis"
      ]
    },
    {
      "cell_type": "code",
      "execution_count": null,
      "metadata": {
        "colab": {
          "base_uri": "https://localhost:8080/"
        },
        "id": "TndZfGgr4_XJ",
        "outputId": "d6c0e8a3-7acf-460f-e61e-18adf88f35b3",
        "vscode": {
          "languageId": "shellscript"
        }
      },
      "outputs": [],
      "source": [
        "#!/bin/bash\n",
        "\n",
        "cd ${WORK_DIR}/METAS/\n",
        "\n",
        "module load plink/1.9\n",
        "\n",
        "\n",
        "plink --meta-analysis ${WORK_DIR}/IPDGC/IPDGC_COURAGE_UK_EUR_CC_FOR_PLINK_MAF.txt \\\n",
        "${WORK_DIR}/IPDGC/IPDGC_DUTCH_EUR_CC_FOR_PLINK_MAF.txt \\\n",
        "${WORK_DIR}/IPDGC/IPDGC_GERMANY_EUR_CC_FOR_PLINK_MAF.txt \\\n",
        "${WORK_DIR}/IPDGC/IPDGC_MCGILL_EUR_CC_FOR_PLINK_MAF.txt \\\n",
        "${WORK_DIR}/IPDGC/IPDGC_MF_EUR_CC_FOR_PLINK_MAF.txt \\\n",
        "${WORK_DIR}/IPDGC/IPDGC_NIA_EUR_CC_FOR_PLINK_MAF.txt \\\n",
        "${WORK_DIR}/IPDGC/IPDGC_OSLO_EUR_CC_FOR_PLINK_PD.txt \\\n",
        "${WORK_DIR}/IPDGC/IPDGC_SHULMAN_EUR_CC_FOR_PLINK_MAF.txt \\\n",
        "${WORK_DIR}/IPDGC/IPDGC_SPAIN3_EUR_CC_NO_AGE_COVAR_FOR_PLINK_MAF.txt \\\n",
        "${WORK_DIR}/IPDGC/IPDGC_TUBI_EUR_CC_FOR_PLINK_MAF.txt \\\n",
        "${WORK_DIR}/IPDGC/IPDGC_FINLAND_FIN_CC_NO_AGE_FOR_PLINK.txt \\\n",
        "+ logscale weighted-z study qt \\\n",
        "--out ${WORK_DIR}/METAS/IPDGC_ONLY_META_MAF\n"
      ]
    },
    {
      "cell_type": "markdown",
      "metadata": {},
      "source": [
        "## EUR - Meta-analysis - IPDGC / GP2 / UKBiobank Case-control"
      ]
    },
    {
      "cell_type": "code",
      "execution_count": null,
      "metadata": {
        "vscode": {
          "languageId": "shellscript"
        }
      },
      "outputs": [],
      "source": [
        "#!/bin/bash\n",
        "\n",
        "cd ${WORK_DIR}/METAS/\n",
        "\n",
        "module load plink/1.9\n",
        "\n",
        "\n",
        "plink --meta-analysis ${WORK_DIR}/GP2/GP2_EUR_CC_FOR_PLINK_MAF.txt \\\n",
        "${WORK_DIR}/IPDGC/IPDGC_COURAGE_UK_EUR_CC_FOR_PLINK_MAF.txt \\\n",
        "${WORK_DIR}/IPDGC/IPDGC_DUTCH_EUR_CC_FOR_PLINK_MAF.txt \\\n",
        "${WORK_DIR}/IPDGC/IPDGC_GERMANY_EUR_CC_FOR_PLINK_MAF.txt \\\n",
        "${WORK_DIR}/IPDGC/IPDGC_MCGILL_EUR_CC_FOR_PLINK_MAF.txt \\\n",
        "${WORK_DIR}/IPDGC/IPDGC_MF_EUR_CC_FOR_PLINK_MAF.txt \\\n",
        "${WORK_DIR}/IPDGC/IPDGC_NIA_EUR_CC_FOR_PLINK_MAF.txt \\\n",
        "${WORK_DIR}/IPDGC/IPDGC_OSLO_EUR_CC_FOR_PLINK_PD.txt \\\n",
        "${WORK_DIR}/IPDGC/IPDGC_SHULMAN_EUR_CC_FOR_PLINK_MAF.txt \\\n",
        "${WORK_DIR}/IPDGC/IPDGC_SPAIN3_EUR_CC_NO_AGE_COVAR_FOR_PLINK_MAF.txt \\\n",
        "${WORK_DIR}/IPDGC/IPDGC_TUBI_EUR_CC_FOR_PLINK_MAF.txt \\\n",
        "${WORK_DIR}/IPDGC/IPDGC_UK_GWAS_EUR_CC_FOR_PLINK_MAF.txt \\\n",
        "${WORK_DIR}/UKB/UKB_ALL/UKB_ALL_CC_FOR_PLINK_MAF \\\n",
        "+ logscale weighted-z study qt \\\n",
        "--out ${WORK_DIR}/METAS/GP2_IPDGC_UKB_META_EUR_MAF\n"
      ]
    },
    {
      "cell_type": "markdown",
      "metadata": {},
      "source": [
        "## EUR - Meta-analysis - IPDGC / GP2 Case-control"
      ]
    },
    {
      "cell_type": "code",
      "execution_count": null,
      "metadata": {
        "vscode": {
          "languageId": "shellscript"
        }
      },
      "outputs": [],
      "source": [
        "#!/bin/bash\n",
        "\n",
        "cd ${WORK_DIR}/METAS/\n",
        "\n",
        "module load plink/1.9\n",
        "\n",
        "\n",
        "plink --meta-analysis ${WORK_DIR}/GP2/POP_CONTROLS/GP2_EUR_CC_FOR_PLINK_MAF_AGE_POP_CONTROLS.txt \\\n",
        "${WORK_DIR}/IPDGC/IPDGC_COURAGE_UK_EUR_CC_FOR_PLINK_MAF.txt \\\n",
        "${WORK_DIR}/IPDGC/IPDGC_DUTCH_EUR_CC_FOR_PLINK_MAF.txt \\\n",
        "${WORK_DIR}/IPDGC/IPDGC_GERMANY_EUR_CC_FOR_PLINK_MAF.txt \\\n",
        "${WORK_DIR}/IPDGC/IPDGC_MCGILL_EUR_CC_FOR_PLINK_MAF.txt \\\n",
        "${WORK_DIR}/IPDGC/IPDGC_MF_EUR_CC_FOR_PLINK_MAF.txt \\\n",
        "${WORK_DIR}/IPDGC/IPDGC_NIA_EUR_CC_FOR_PLINK_MAF.txt \\\n",
        "${WORK_DIR}/IPDGC/IPDGC_OSLO_EUR_CC_FOR_PLINK_PD.txt \\\n",
        "${WORK_DIR}/IPDGC/IPDGC_SHULMAN_EUR_CC_FOR_PLINK_MAF.txt \\\n",
        "${WORK_DIR}/IPDGC/IPDGC_SPAIN3_EUR_CC_NO_AGE_COVAR_FOR_PLINK_MAF.txt \\\n",
        "${WORK_DIR}/IPDGC/IPDGC_TUBI_EUR_CC_FOR_PLINK_MAF.txt \\\n",
        "${WORK_DIR}/IPDGC/IPDGC_UK_GWAS_EUR_CC_FOR_PLINK_MAF.txt \\\n",
        "+ logscale weighted-z study qt \\\n",
        "--out ${WORK_DIR}/METAS/GP2_IPDGC_META_EUR_MAF_POP_CONTROLS\n"
      ]
    },
    {
      "cell_type": "markdown",
      "metadata": {},
      "source": [
        "## EUR - Meta-analysis - IPDGC Case-control"
      ]
    },
    {
      "cell_type": "code",
      "execution_count": null,
      "metadata": {
        "vscode": {
          "languageId": "shellscript"
        }
      },
      "outputs": [],
      "source": [
        "#!/bin/bash\n",
        "\n",
        "cd ${WORK_DIR}/METAS/\n",
        "\n",
        "module load plink/1.9\n",
        "\n",
        "\n",
        "plink --meta-analysis ${WORK_DIR}/IPDGC/IPDGC_COURAGE_UK_EUR_CC_FOR_PLINK.txt \\\n",
        "${WORK_DIR}/IPDGC/IPDGC_DUTCH_EUR_CC_FOR_PLINK.txt \\\n",
        "${WORK_DIR}/IPDGC/IPDGC_GERMANY_EUR_CC_FOR_PLINK.txt \\\n",
        "${WORK_DIR}/IPDGC/IPDGC_MCGILL_EUR_CC_FOR_PLINK.txt \\\n",
        "${WORK_DIR}/IPDGC/IPDGC_MF_EUR_CC_FOR_PLINK.txt \\\n",
        "${WORK_DIR}/IPDGC/IPDGC_NIA_EUR_CC_FOR_PLINK.txt \\\n",
        "${WORK_DIR}/IPDGC/IPDGC_OSLO_EUR_CC_FOR_PLINK.txt \\\n",
        "${WORK_DIR}/IPDGC/IPDGC_SHULMAN_EUR_CC_FOR_PLINK.txt \\\n",
        "${WORK_DIR}/IPDGC/IPDGC_SPAIN3_EUR_CC_NO_AGE_COVAR_FOR_PLINK.txt \\\n",
        "${WORK_DIR}/IPDGC/IPDGC_TUBI_EUR_CC_FOR_PLINK.txt \\\n",
        "${WORK_DIR}/IPDGC/IPDGC_UK_GWAS_EUR_CC_FOR_PLINK.txt \\\n",
        "+ logscale weighted-z study qt \\\n",
        "--out ${WORK_DIR}/METAS/IPDGC_META_EUR"
      ]
    },
    {
      "cell_type": "markdown",
      "metadata": {},
      "source": [
        "## EUR - Meta-analysis - FIGS / UKBiobank Case-control"
      ]
    },
    {
      "cell_type": "code",
      "execution_count": null,
      "metadata": {
        "vscode": {
          "languageId": "shellscript"
        }
      },
      "outputs": [],
      "source": [
        "#!/bin/bash\n",
        "\n",
        "cd ${WORK_DIR}/METAS/\n",
        "\n",
        "module load plink/1.9\n",
        "\n",
        "\n",
        "plink --meta-analysis ${WORK_DIR}/METAS/FIGS_META_EUR_MAF_FOR_PLINK.txt \\\n",
        "${WORK_DIR}/UKB/UKB_ALL/UKB_ALL_CC_FOR_PLINK_MAF \\\n",
        "+ logscale weighted-z study qt \\\n",
        "--out ${WORK_DIR}/METAS/FIGS_UKB_CC_META_EUR_MAF\n"
      ]
    },
    {
      "cell_type": "markdown",
      "metadata": {},
      "source": []
    }
  ],
  "metadata": {
    "colab": {
      "machine_shape": "hm",
      "provenance": [],
      "toc_visible": true
    },
    "kernelspec": {
      "display_name": "Python 3",
      "name": "python3"
    },
    "language_info": {
      "name": "python"
    }
  },
  "nbformat": 4,
  "nbformat_minor": 0
}
